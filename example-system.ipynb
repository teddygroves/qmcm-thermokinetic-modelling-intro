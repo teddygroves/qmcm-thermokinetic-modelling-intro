{
 "cells": [
  {
   "cell_type": "raw",
   "id": "fcc9614f",
   "metadata": {},
   "source": [
    "---\n",
    "title: An example thermokinetic modelling problem\n",
    "bibliography: bibliography.bib\n",
    "reference-location: margin\n",
    "toc: true\n",
    "filters:\n",
    "  - include-code-files\n",
    "format:\n",
    "  html:\n",
    "    standalone: true\n",
    "    embed-resources: true\n",
    "  pdf: default\n",
    "  docx: default\n",
    "keep-ipynb: true\n",
    "---"
   ]
  },
  {
   "cell_type": "markdown",
   "id": "c12fc57b",
   "metadata": {},
   "source": [
    "This document goes through an illustrative thermokinetic modelling problem.\n",
    "Instead of using our software Maud, everything is done from scratch using\n",
    "Julia. Unlike Maud, which does Bayesian inference, this example just solves the\n",
    "steady state problem for a given parameter assignment.\n",
    "\n",
    "# The example problem\n",
    "\n",
    "The reaction network looks like this:\n",
    "\n",
    "![](./img/simple-network.png)\n",
    "\n",
    "The box surrounded by a dotted line indicates which species should have\n",
    "constant concentration in order to consider the system in a steady state.\n",
    "Species M1 and M4 are considered 'unbalanced': in other words, the system is\n",
    "considered steady even if they are being created or consumed.\n",
    "\n",
    "This graph can be summed up by the following stoichiometric matrix $S$:\n",
    "\n",
    "$$\n",
    "\\begin{bmatrix}\n",
    "  -1. &  0. &  0.\\\\\n",
    "   1. & -1. &  0.\\\\\n",
    "   0. &  1. & -1.\\\\\n",
    "   0. &  0. &  1.\n",
    "\\end{bmatrix}\n",
    "$$ {#eq-steady}\n",
    "\n",
    "Note that $S$ is less than full-rank, so we have the conservation relationship\n",
    "problem.\n",
    "\n",
    "The aim here is to write some Julia functions for representing metabolic\n",
    "fluxes, use these functions to formulate the example network and then solve the\n",
    "steady state problem, i.e. find an assignment of concentrations to M1 and M2\n",
    "that does not change.\n",
    "\n",
    "# Julia functions for representing metabolic fluxes\n",
    "\n",
    "To formulate the problem I wrote some Julia functions that can be found in the\n",
    "file `thermokinetics.jl`. These pretty faithfully copy their equivalents in\n",
    "Maud, which can be found\n",
    "[here](https://github.com/biosustain/Maud/blob/master/src/maud/stan/functions.stan).\n",
    "The main differences are that the Julia functions are much easier to read,\n",
    "mainly since the language supports ragged arrays, and that I didn't bother to\n",
    "implement regulation by phosphorylation.\n",
    "\n",
    "As a lightweight way of defining what a problem should look like for the\n",
    "purposes of this exercise, I also made two Julia `structs`: `OdeUnknowns` for\n",
    "unknown parameters, and `OdeInfo` for all the information required to solve a\n",
    "steady state problem (except the starting balanced species concentration).\n",
    "\n",
    "```{.julia include=\"./thermokinetics.jl\" start-line=18 end-line=40}\n",
    "```\n",
    "# Formulating the example problem\n",
    "\n",
    "The first step is to import the custom thermokinetics functions and import the\n",
    "`DifferentialEquations` and `Plots` libraries, which will be used later.\n"
   ]
  },
  {
   "cell_type": "code",
   "execution_count": 1,
   "id": "80912619",
   "metadata": {},
   "outputs": [
    {
     "name": "stderr",
     "output_type": "stream",
     "text": [
      "WARNING: replacing module Thermokinetics.\n",
      "WARNING: using Thermokinetics.OdeUnknowns in module Main conflicts with an existing identifier.\n",
      "WARNING: using Thermokinetics.OdeInfo in module Main conflicts with an existing identifier.\n",
      "WARNING: using Thermokinetics.Sv in module Main conflicts with an existing identifier.\n"
     ]
    }
   ],
   "source": [
    "include(\"./thermokinetics.jl\")\n",
    "using .Thermokinetics\n",
    "using DifferentialEquations\n",
    "using Plots"
   ]
  },
  {
   "cell_type": "markdown",
   "id": "81e1505e",
   "metadata": {},
   "source": [
    "Next I chose the following parameter configuration pretty arbitrarily and put\n",
    "them in an `OdeUnknowns` struct:\n"
   ]
  },
  {
   "cell_type": "code",
   "execution_count": 2,
   "id": "e1de5b42",
   "metadata": {},
   "outputs": [
    {
     "data": {
      "text/plain": [
       "OdeUnknowns([0.5, 0.5, 0.5], [2.0, 1.0], [12.0, 1.0, 5.0], [25.0, 25.0, 50.0, 50.0], [1.0, 1.0, 1.0, 1.0, 1.0, 1.0], [1.5], [12.5], [0.0, 0.0, 1.2])"
      ]
     },
     "execution_count": 48,
     "metadata": {},
     "output_type": "execute_result"
    }
   ],
   "source": [
    "example_unknowns = OdeUnknowns(\n",
    "  enzyme=[0.5, 0.5, 0.5],\n",
    "  conc_unbalanced=[2., 1.],\n",
    "  kcat=[12., 1., 5.],\n",
    "  dgf=[25., 25., 50., 50.],\n",
    "  km=[1., 1., 1., 1., 1., 1.],\n",
    "  tc=[0., 0., 1.2],                # NB all reactions must have a tc \n",
    "  ki=[1.5],\n",
    "  dc=[12.5]\n",
    ")"
   ]
  },
  {
   "cell_type": "markdown",
   "id": "b4a0d280",
   "metadata": {},
   "source": [
    "The next code cell represents the example problem using the `OdeInfo` struct:\n"
   ]
  },
  {
   "cell_type": "code",
   "execution_count": 3,
   "id": "3a39faae",
   "metadata": {},
   "outputs": [
    {
     "data": {
      "text/plain": [
       "OdeInfo([-1.0 0.0 0.0; 1.0 -1.0 0.0; 0.0 1.0 -1.0; 0.0 0.0 1.0], Integer[2, 3], Integer[1, 2, 1], Dict{Integer, Integer}[Dict(2 => 2, 1 => 1), Dict(2 => 3, 3 => 4), Dict(4 => 6, 3 => 5)], Dict{Integer, Integer}[Dict(), Dict(2 => 1), Dict()], Dict{Integer, Integer}[Dict(), Dict(), Dict(3 => 1)], Vector{Integer}[[], [], [3]], Vector{Integer}[[], [], []], OdeUnknowns([0.5, 0.5, 0.5], [2.0, 1.0], [12.0, 1.0, 5.0], [25.0, 25.0, 50.0, 50.0], [1.0, 1.0, 1.0, 1.0, 1.0, 1.0], [1.5], [12.5], [0.0, 0.0, 1.2]))"
      ]
     },
     "execution_count": 49,
     "metadata": {},
     "output_type": "execute_result"
    }
   ],
   "source": [
    "example_S = Matrix(\n",
    "  [-1.  0.  0.;\n",
    "    1. -1.  0.;\n",
    "    0.  1. -1.;\n",
    "    0.  0.  1.;]\n",
    ")\n",
    "example_ode_info = OdeInfo(\n",
    "  S=example_S,\n",
    "  ix_balanced=[2, 3],\n",
    "  subunits=[1, 2, 1],\n",
    "  sp_to_km=[Dict(1=>1, 2=>2), Dict(2=>3, 3=>4), Dict(3=>5, 4=>6)],\n",
    "  sp_to_ki=[Dict([]), Dict(2=>1), Dict([])],\n",
    "  sp_to_dc=[Dict([]), Dict([]), Dict(3=>1)],\n",
    "  allosteric_inhibitors=[[], [], [3]],\n",
    "  allosteric_activators=[[], [], []],\n",
    "  unknowns=example_unknowns\n",
    ")"
   ]
  },
  {
   "cell_type": "markdown",
   "id": "81b1add6",
   "metadata": {},
   "source": [
    "To check that everything was working I tried calling the `Sv` function from\n",
    "`thermokinetics.jl` to see what the rate of change of the balanced species\n",
    "would be if their concentrations were 1.0 and 2.0 respectively.\n"
   ]
  },
  {
   "cell_type": "code",
   "execution_count": 4,
   "id": "c22a244e",
   "metadata": {},
   "outputs": [
    {
     "data": {
      "text/plain": [
       "2-element Vector{Float64}:\n",
       " 12.039660056657224\n",
       " -6.95840675480975"
      ]
     },
     "execution_count": 50,
     "metadata": {},
     "output_type": "execute_result"
    }
   ],
   "source": [
    "Sv([1., 2.], example_ode_info, 0.1) # the 0.1 doesn't do anything"
   ]
  },
  {
   "cell_type": "markdown",
   "id": "c458c885",
   "metadata": {},
   "source": [
    "This seemed ok, so I tried choosing a starting concentration and timespan, then\n",
    "making an `ODEProblem`:\n"
   ]
  },
  {
   "cell_type": "code",
   "execution_count": 5,
   "id": "799f1b90",
   "metadata": {},
   "outputs": [
    {
     "data": {
      "text/plain": [
       "\u001b[38;2;86;182;194mODEProblem\u001b[0m with uType \u001b[38;2;86;182;194mVector{Float64}\u001b[0m and tType \u001b[38;2;86;182;194mFloat64\u001b[0m. In-place: \u001b[38;2;86;182;194mfalse\u001b[0m\n",
       "timespan: (0.0, 20.0)\n",
       "u0: 2-element Vector{Float64}:\n",
       " 0.4\n",
       " 1.2"
      ]
     },
     "execution_count": 51,
     "metadata": {},
     "output_type": "execute_result"
    }
   ],
   "source": [
    "tspan = (0., 20.)\n",
    "example_starting_concentration = [0.4, 1.2]\n",
    "\n",
    "prob = ODEProblem(Sv, example_starting_concentration, tspan, example_ode_info)\n",
    "prob"
   ]
  },
  {
   "cell_type": "markdown",
   "id": "6756fa2c",
   "metadata": {},
   "source": [
    "Finally, I tried solving the problem and putting the results in a matrix:\n"
   ]
  },
  {
   "cell_type": "code",
   "execution_count": 6,
   "id": "b2a5bc74",
   "metadata": {},
   "outputs": [
    {
     "data": {
      "text/plain": [
       "17×2 transpose(::Matrix{Float64}) with eltype Float64:\n",
       " 0.4       1.2\n",
       " 0.401639  1.19902\n",
       " 0.418345  1.18929\n",
       " 0.618813  1.09847\n",
       " 0.994538  0.989472\n",
       " 1.40419   0.900338\n",
       " 1.80665   0.803208\n",
       " 2.01784   0.668918\n",
       " 2.0025    0.647219\n",
       " 1.99914   0.616281\n",
       " 1.99979   0.616863\n",
       " 1.99971   0.617088\n",
       " 1.99972   0.617041\n",
       " 1.99972   0.61705\n",
       " 1.99972   0.617049\n",
       " 1.99972   0.617049\n",
       " 1.99972   0.617049"
      ]
     },
     "execution_count": 52,
     "metadata": {},
     "output_type": "execute_result"
    }
   ],
   "source": [
    "sol = solve(prob, TRBDF2(autodiff=false))\n",
    "u = transpose(reduce(hcat, sol.u))\n",
    "u"
   ]
  },
  {
   "cell_type": "markdown",
   "id": "39c149c2",
   "metadata": {},
   "source": [
    "This graph plots the simulated concentration timecourses on log-10 scale:^[The\n",
    "starting concentrations are excluded to avoid a zero on the x axis]\n"
   ]
  },
  {
   "cell_type": "code",
   "execution_count": 7,
   "id": "7a80b12e",
   "metadata": {},
   "outputs": [
    {
     "data": {
      "image/png": "[encoded data removed]"
     },
     "execution_count": 53,
     "metadata": {},
     "output_type": "execute_result"
    }
   ],
   "source": [
    "plot(sol.t[2:end], u[2:end, :], xscale=:log10)"
   ]
  },
  {
   "cell_type": "markdown",
   "id": "8db6be7e",
   "metadata": {},
   "source": [
    "# What next?\n",
    "\n",
    "Now we need to see how to solve this problem as fast as possible, for a range\n",
    "of different parameter values. We also need to find out the sensitivities of\n",
    "the steady state solution to the parameters."
   ]
  }
 ],
 "metadata": {
  "kernelspec": {
   "display_name": "Julia 1.8.5",
   "language": "julia",
   "name": "julia-1.8"
  }
 },
 "nbformat": 4,
 "nbformat_minor": 5
}
