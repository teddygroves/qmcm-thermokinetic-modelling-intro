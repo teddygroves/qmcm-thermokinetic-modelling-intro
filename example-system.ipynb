{
 "cells": [
  {
   "cell_type": "raw",
   "id": "2de5dc63",
   "metadata": {},
   "source": [
    "---\n",
    "title: An example thermokinetic modelling problem\n",
    "bibliography: bibliography.bib\n",
    "reference-location: margin\n",
    "toc: true\n",
    "filters:\n",
    "  - include-code-files\n",
    "format:\n",
    "  html:\n",
    "    standalone: true\n",
    "    embed-resources: true\n",
    "  pdf: default\n",
    "  docx: default\n",
    "keep-ipynb: true\n",
    "---"
   ]
  },
  {
   "cell_type": "markdown",
   "id": "496d1412",
   "metadata": {},
   "source": [
    "This document goes through an illustrative thermokinetic modelling problem.\n",
    "Instead of using our software Maud, everything is done from scratch using\n",
    "Julia. Unlike Maud, which does Bayesian inference, this example just solves the\n",
    "steady state problem for a given parameter assignment.\n",
    "\n",
    "# The example problem\n",
    "\n",
    "The reaction network looks like this:\n",
    "\n",
    "![](./img/simple-network.png)\n",
    "\n",
    "The box surrounded by a dotted line indicates which species should have\n",
    "constant concentration in order to consider the system in a steady state.\n",
    "Species M1 and M4 are considered 'unbalanced': in other words, the system is\n",
    "considered steady even if they are being created or consumed.\n",
    "\n",
    "This graph can be summed up by the following stoichiometric matrix $S$:\n",
    "\n",
    "$$\n",
    "\\begin{bmatrix}\n",
    "  -1. &  0. &  0.\\\\\n",
    "   1. & -1. &  0.\\\\\n",
    "   0. &  1. & -1.\\\\\n",
    "   0. &  0. &  1.\n",
    "\\end{bmatrix}\n",
    "$$ {#eq-steady}\n",
    "\n",
    "Note that $S$ is less than full-rank, so we have the conservation relationship\n",
    "problem.\n",
    "\n",
    "The aim here is to write some Julia functions for representing metabolic\n",
    "fluxes, use these functions to formulate the example network and then solve the\n",
    "steady state problem, i.e. find an assignment of concentrations to M1 and M2\n",
    "that does not change.\n",
    "\n",
    "# Julia functions for representing metabolic fluxes\n",
    "\n",
    "To formulate the problem I wrote some Julia functions that can be found in the\n",
    "file `thermokinetics.jl`. These pretty faithfully copy their equivalents in\n",
    "Maud, which can be found\n",
    "[here](https://github.com/biosustain/Maud/blob/master/src/maud/stan/functions.stan).\n",
    "The main differences are that the Julia functions are much easier to read,\n",
    "mainly since the language supports ragged arrays, and that I didn't bother to\n",
    "implement regulation by phosphorylation.\n",
    "\n",
    "As a lightweight way of defining what a problem should look like for the\n",
    "purposes of this exercise, I also made two Julia `structs`: `OdeUnknowns` for\n",
    "unknown parameters, and `OdeInfo` for all the information required to solve a\n",
    "steady state problem (except the starting balanced species concentration).\n",
    "\n",
    "```{.julia include=\"./thermokinetics.jl\" start-line=18 end-line=40}\n",
    "```\n",
    "# Formulating the example problem\n",
    "\n",
    "The first step is to import the custom thermokinetics functions and import the\n",
    "`DifferentialEquations` and `Plots` libraries, which will be used later.\n"
   ]
  },
  {
   "cell_type": "code",
   "execution_count": 1,
   "id": "47ec9590",
   "metadata": {},
   "outputs": [
    {
     "name": "stderr",
     "output_type": "stream",
     "text": [
      "WARNING: replacing module Thermokinetics.\n",
      "WARNING: using Thermokinetics.OdeUnknowns in module Main conflicts with an existing identifier.\n",
      "WARNING: using Thermokinetics.OdeInfo in module Main conflicts with an existing identifier.\n",
      "WARNING: using Thermokinetics.Sv in module Main conflicts with an existing identifier.\n"
     ]
    }
   ],
   "source": [
    "include(\"./thermokinetics.jl\")\n",
    "using .Thermokinetics\n",
    "using DifferentialEquations\n",
    "using Plots"
   ]
  },
  {
   "cell_type": "markdown",
   "id": "66362c28",
   "metadata": {},
   "source": [
    "Next I chose the following parameter configuration pretty arbitrarily and put\n",
    "them in an `OdeUnknowns` struct:\n"
   ]
  },
  {
   "cell_type": "code",
   "execution_count": 2,
   "id": "8d1be4c9",
   "metadata": {},
   "outputs": [
    {
     "data": {
      "text/plain": [
       "OdeUnknowns([0.5, 0.5, 0.5], [2.0, 1.0], [12.0, 1.0, 5.0], [25.0, 25.0, 50.0, 50.0], [1.0, 1.0, 1.0, 1.0, 1.0, 1.0], [1.5], [12.5], [0.0, 0.0, 1.2])"
      ]
     },
     "execution_count": 21,
     "metadata": {},
     "output_type": "execute_result"
    }
   ],
   "source": [
    "example_unknowns = OdeUnknowns(\n",
    "  enzyme=[0.5, 0.5, 0.5],\n",
    "  conc_unbalanced=[2., 1.],\n",
    "  kcat=[12., 1., 5.],\n",
    "  dgf=[25., 25., 50., 50.],\n",
    "  km=[1., 1., 1., 1., 1., 1.],\n",
    "  tc=[0., 0., 1.2],                # NB all reactions must have a tc \n",
    "  ki=[1.5],\n",
    "  dc=[12.5]\n",
    ")"
   ]
  },
  {
   "cell_type": "markdown",
   "id": "28ff11b0",
   "metadata": {},
   "source": [
    "The next code cell represents the example problem using the `OdeInfo` struct:\n"
   ]
  },
  {
   "cell_type": "code",
   "execution_count": 3,
   "id": "55ade51a",
   "metadata": {},
   "outputs": [
    {
     "data": {
      "text/plain": [
       "OdeInfo([-1.0 0.0 0.0; 1.0 -1.0 0.0; 0.0 1.0 -1.0; 0.0 0.0 1.0], Integer[2, 3], Integer[1, 2, 1], Dict{Integer, Integer}[Dict(2 => 2, 1 => 1), Dict(2 => 3, 3 => 4), Dict(4 => 6, 3 => 5)], Dict{Integer, Integer}[Dict(), Dict(2 => 1), Dict()], Dict{Integer, Integer}[Dict(), Dict(), Dict(3 => 1)], Vector{Integer}[[], [], [3]], Vector{Integer}[[], [], []], OdeUnknowns([0.5, 0.5, 0.5], [2.0, 1.0], [12.0, 1.0, 5.0], [25.0, 25.0, 50.0, 50.0], [1.0, 1.0, 1.0, 1.0, 1.0, 1.0], [1.5], [12.5], [0.0, 0.0, 1.2]))"
      ]
     },
     "execution_count": 22,
     "metadata": {},
     "output_type": "execute_result"
    }
   ],
   "source": [
    "example_S = Matrix(\n",
    "  [-1.  0.  0.;\n",
    "    1. -1.  0.;\n",
    "    0.  1. -1.;\n",
    "    0.  0.  1.;]\n",
    ")\n",
    "example_ode_info = OdeInfo(\n",
    "  S=example_S,\n",
    "  ix_balanced=[2, 3],\n",
    "  subunits=[1, 2, 1],\n",
    "  sp_to_km=[Dict(1=>1, 2=>2), Dict(2=>3, 3=>4), Dict(3=>5, 4=>6)],\n",
    "  sp_to_ki=[Dict([]), Dict(2=>1), Dict([])],\n",
    "  sp_to_dc=[Dict([]), Dict([]), Dict(3=>1)],\n",
    "  allosteric_inhibitors=[[], [], [3]],\n",
    "  allosteric_activators=[[], [], []],\n",
    "  unknowns=example_unknowns\n",
    ")"
   ]
  },
  {
   "cell_type": "markdown",
   "id": "da537aaa",
   "metadata": {},
   "source": [
    "To check that everything was working I tried calling the `Sv` function from\n",
    "`thermokinetics.jl` to see what the rate of change of the balanced species\n",
    "would be if their concentrations were 1.0 and 2.0 respectively.\n"
   ]
  },
  {
   "cell_type": "code",
   "execution_count": 4,
   "id": "2faadb06",
   "metadata": {},
   "outputs": [
    {
     "data": {
      "text/plain": [
       "2-element Vector{Float64}:\n",
       " 12.039660056657224\n",
       " -6.95840675480975"
      ]
     },
     "execution_count": 23,
     "metadata": {},
     "output_type": "execute_result"
    }
   ],
   "source": [
    "Sv([1., 2.], example_ode_info, 0.1) # the 0.1 doesn't do anything"
   ]
  },
  {
   "cell_type": "markdown",
   "id": "6aea5ba3",
   "metadata": {},
   "source": [
    "This seemed ok, so I tried choosing a starting concentration and timespan, then\n",
    "making an `ODEProblem`:\n"
   ]
  },
  {
   "cell_type": "code",
   "execution_count": 5,
   "id": "612f314a",
   "metadata": {},
   "outputs": [
    {
     "data": {
      "text/plain": [
       "\u001b[38;2;86;182;194mODEProblem\u001b[0m with uType \u001b[38;2;86;182;194mVector{Float64}\u001b[0m and tType \u001b[38;2;86;182;194mFloat64\u001b[0m. In-place: \u001b[38;2;86;182;194mfalse\u001b[0m\n",
       "timespan: (0.0, 20.0)\n",
       "u0: 2-element Vector{Float64}:\n",
       " 0.4\n",
       " 1.2"
      ]
     },
     "execution_count": 24,
     "metadata": {},
     "output_type": "execute_result"
    }
   ],
   "source": [
    "tspan = (0., 20.)\n",
    "example_starting_concentration = [0.4, 1.2]\n",
    "\n",
    "prob = ODEProblem(Sv, example_starting_concentration, tspan, example_ode_info)\n",
    "prob"
   ]
  },
  {
   "cell_type": "markdown",
   "id": "b7196833",
   "metadata": {},
   "source": [
    "Finally, I tried solving the problem and putting the results in a matrix:\n"
   ]
  },
  {
   "cell_type": "code",
   "execution_count": 6,
   "id": "5a9315fb",
   "metadata": {},
   "outputs": [
    {
     "data": {
      "text/plain": [
       "17×2 transpose(::Matrix{Float64}) with eltype Float64:\n",
       " 0.4       1.2\n",
       " 0.401639  1.19902\n",
       " 0.418345  1.18929\n",
       " 0.618813  1.09847\n",
       " 0.994538  0.989472\n",
       " 1.40419   0.900338\n",
       " 1.80665   0.803208\n",
       " 2.01784   0.668918\n",
       " 2.0025    0.647219\n",
       " 1.99914   0.616281\n",
       " 1.99979   0.616863\n",
       " 1.99971   0.617088\n",
       " 1.99972   0.617041\n",
       " 1.99972   0.61705\n",
       " 1.99972   0.617049\n",
       " 1.99972   0.617049\n",
       " 1.99972   0.617049"
      ]
     },
     "execution_count": 25,
     "metadata": {},
     "output_type": "execute_result"
    }
   ],
   "source": [
    "sol = solve(prob, TRBDF2(autodiff=false))\n",
    "u = transpose(reduce(hcat, sol.u))\n",
    "u"
   ]
  },
  {
   "cell_type": "markdown",
   "id": "ec512bb4",
   "metadata": {},
   "source": [
    "This graph plots the simulated concentration timecourses on log-10 scale:^[The\n",
    "starting concentrations are excluded to avoid a zero on the x axis]\n"
   ]
  },
  {
   "cell_type": "code",
   "execution_count": 7,
   "id": "67e8d6fc",
   "metadata": {},
   "outputs": [
    {
     "data": {
      "image/svg+xml": [
       "<?xml version=\"1.0\" encoding=\"utf-8\"?>\n",
       "<svg xmlns=\"http://www.w3.org/2000/svg\" xmlns:xlink=\"http://www.w3.org/1999/xlink\" width=\"672\" height=\"480\" viewBox=\"0 0 2688 1920\">\n",
       "<defs>\n",
       "  <clipPath id=\"clip450\">\n",
       "    <rect x=\"0\" y=\"0\" width=\"2688\" height=\"1920\"/>\n",
       "  </clipPath>\n",
       "</defs>\n",
       "<path clip-path=\"url(#clip450)\" d=\"M0 1920 L2688 1920 L2688 0 L0 0  Z\" fill=\"#ffffff\" fill-rule=\"evenodd\" fill-opacity=\"1\"/>\n",
       "<defs>\n",
       "  <clipPath id=\"clip451\">\n",
       "    <rect x=\"537\" y=\"0\" width=\"1883\" height=\"1883\"/>\n",
       "  </clipPath>\n",
       "</defs>\n",
       "<path clip-path=\"url(#clip450)\" d=\"M159.154 1787.62 L2640.76 1787.62 L2640.76 47.2441 L159.154 47.2441  Z\" fill=\"#ffffff\" fill-rule=\"evenodd\" fill-opacity=\"1\"/>\n",
       "<defs>\n",
       "  <clipPath id=\"clip452\">\n",
       "    <rect x=\"159\" y=\"47\" width=\"2483\" height=\"1741\"/>\n",
       "  </clipPath>\n",
       "</defs>\n",
       "<polyline clip-path=\"url(#clip452)\" style=\"stroke:#000000; stroke-linecap:round; stroke-linejoin:round; stroke-width:2; stroke-opacity:0.1; fill:none\" points=\"994.983,1787.62 994.983,47.2441 \"/>\n",
       "<polyline clip-path=\"url(#clip452)\" style=\"stroke:#000000; stroke-linecap:round; stroke-linejoin:round; stroke-width:2; stroke-opacity:0.1; fill:none\" points=\"1949.56,1787.62 1949.56,47.2441 \"/>\n",
       "<polyline clip-path=\"url(#clip450)\" style=\"stroke:#000000; stroke-linecap:round; stroke-linejoin:round; stroke-width:4; stroke-opacity:1; fill:none\" points=\"159.154,1787.62 2640.76,1787.62 \"/>\n",
       "<polyline clip-path=\"url(#clip450)\" style=\"stroke:#000000; stroke-linecap:round; stroke-linejoin:round; stroke-width:4; stroke-opacity:1; fill:none\" points=\"994.983,1787.62 994.983,1768.72 \"/>\n",
       "<polyline clip-path=\"url(#clip450)\" style=\"stroke:#000000; stroke-linecap:round; stroke-linejoin:round; stroke-width:4; stroke-opacity:1; fill:none\" points=\"1949.56,1787.62 1949.56,1768.72 \"/>\n",
       "<path clip-path=\"url(#clip450)\" d=\"M945.249 1864.05 L952.888 1864.05 L952.888 1837.68 L944.578 1839.35 L944.578 1835.09 L952.841 1833.42 L957.517 1833.42 L957.517 1864.05 L965.156 1864.05 L965.156 1867.98 L945.249 1867.98 L945.249 1864.05 Z\" fill=\"#000000\" fill-rule=\"nonzero\" fill-opacity=\"1\" /><path clip-path=\"url(#clip450)\" d=\"M984.601 1836.5 Q980.989 1836.5 979.161 1840.07 Q977.355 1843.61 977.355 1850.74 Q977.355 1857.84 979.161 1861.41 Q980.989 1864.95 984.601 1864.95 Q988.235 1864.95 990.04 1861.41 Q991.869 1857.84 991.869 1850.74 Q991.869 1843.61 990.04 1840.07 Q988.235 1836.5 984.601 1836.5 M984.601 1832.8 Q990.411 1832.8 993.466 1837.4 Q996.545 1841.99 996.545 1850.74 Q996.545 1859.46 993.466 1864.07 Q990.411 1868.65 984.601 1868.65 Q978.79 1868.65 975.712 1864.07 Q972.656 1859.46 972.656 1850.74 Q972.656 1841.99 975.712 1837.4 Q978.79 1832.8 984.601 1832.8 Z\" fill=\"#000000\" fill-rule=\"nonzero\" fill-opacity=\"1\" /><path clip-path=\"url(#clip450)\" d=\"M996.545 1826.9 L1020.66 1826.9 L1020.66 1830.1 L996.545 1830.1 L996.545 1826.9 Z\" fill=\"#000000\" fill-rule=\"nonzero\" fill-opacity=\"1\" /><path clip-path=\"url(#clip450)\" d=\"M1032.13 1837.38 L1045.39 1837.38 L1045.39 1840.57 L1027.56 1840.57 L1027.56 1837.38 Q1029.72 1835.14 1033.45 1831.38 Q1037.19 1827.59 1038.15 1826.5 Q1039.97 1824.45 1040.69 1823.04 Q1041.42 1821.61 1041.42 1820.24 Q1041.42 1818 1039.84 1816.59 Q1038.28 1815.18 1035.76 1815.18 Q1033.97 1815.18 1031.98 1815.8 Q1030 1816.42 1027.75 1817.68 L1027.75 1813.85 Q1030.04 1812.92 1032.04 1812.45 Q1034.03 1811.98 1035.68 1811.98 Q1040.05 1811.98 1042.64 1814.17 Q1045.24 1816.35 1045.24 1820 Q1045.24 1821.73 1044.58 1823.29 Q1043.94 1824.83 1042.23 1826.94 Q1041.76 1827.48 1039.24 1830.1 Q1036.72 1832.69 1032.13 1837.38 Z\" fill=\"#000000\" fill-rule=\"nonzero\" fill-opacity=\"1\" /><path clip-path=\"url(#clip450)\" d=\"M1914.54 1864.05 L1922.18 1864.05 L1922.18 1837.68 L1913.87 1839.35 L1913.87 1835.09 L1922.13 1833.42 L1926.81 1833.42 L1926.81 1864.05 L1934.45 1864.05 L1934.45 1867.98 L1914.54 1867.98 L1914.54 1864.05 Z\" fill=\"#000000\" fill-rule=\"nonzero\" fill-opacity=\"1\" /><path clip-path=\"url(#clip450)\" d=\"M1953.89 1836.5 Q1950.28 1836.5 1948.45 1840.07 Q1946.65 1843.61 1946.65 1850.74 Q1946.65 1857.84 1948.45 1861.41 Q1950.28 1864.95 1953.89 1864.95 Q1957.53 1864.95 1959.33 1861.41 Q1961.16 1857.84 1961.16 1850.74 Q1961.16 1843.61 1959.33 1840.07 Q1957.53 1836.5 1953.89 1836.5 M1953.89 1832.8 Q1959.7 1832.8 1962.76 1837.4 Q1965.84 1841.99 1965.84 1850.74 Q1965.84 1859.46 1962.76 1864.07 Q1959.7 1868.65 1953.89 1868.65 Q1948.08 1868.65 1945 1864.07 Q1941.95 1859.46 1941.95 1850.74 Q1941.95 1841.99 1945 1837.4 Q1948.08 1832.8 1953.89 1832.8 Z\" fill=\"#000000\" fill-rule=\"nonzero\" fill-opacity=\"1\" /><path clip-path=\"url(#clip450)\" d=\"M1975.54 1814.99 Q1972.61 1814.99 1971.12 1817.89 Q1969.65 1820.77 1969.65 1826.56 Q1969.65 1832.33 1971.12 1835.23 Q1972.61 1838.11 1975.54 1838.11 Q1978.49 1838.11 1979.96 1835.23 Q1981.45 1832.33 1981.45 1826.56 Q1981.45 1820.77 1979.96 1817.89 Q1978.49 1814.99 1975.54 1814.99 M1975.54 1811.98 Q1980.26 1811.98 1982.74 1815.73 Q1985.25 1819.45 1985.25 1826.56 Q1985.25 1833.65 1982.74 1837.39 Q1980.26 1841.12 1975.54 1841.12 Q1970.82 1841.12 1968.32 1837.39 Q1965.84 1833.65 1965.84 1826.56 Q1965.84 1819.45 1968.32 1815.73 Q1970.82 1811.98 1975.54 1811.98 Z\" fill=\"#000000\" fill-rule=\"nonzero\" fill-opacity=\"1\" /><polyline clip-path=\"url(#clip452)\" style=\"stroke:#000000; stroke-linecap:round; stroke-linejoin:round; stroke-width:2; stroke-opacity:0.1; fill:none\" points=\"159.154,1536.85 2640.76,1536.85 \"/>\n",
       "<polyline clip-path=\"url(#clip452)\" style=\"stroke:#000000; stroke-linecap:round; stroke-linejoin:round; stroke-width:2; stroke-opacity:0.1; fill:none\" points=\"159.154,1232.09 2640.76,1232.09 \"/>\n",
       "<polyline clip-path=\"url(#clip452)\" style=\"stroke:#000000; stroke-linecap:round; stroke-linejoin:round; stroke-width:2; stroke-opacity:0.1; fill:none\" points=\"159.154,927.327 2640.76,927.327 \"/>\n",
       "<polyline clip-path=\"url(#clip452)\" style=\"stroke:#000000; stroke-linecap:round; stroke-linejoin:round; stroke-width:2; stroke-opacity:0.1; fill:none\" points=\"159.154,622.565 2640.76,622.565 \"/>\n",
       "<polyline clip-path=\"url(#clip452)\" style=\"stroke:#000000; stroke-linecap:round; stroke-linejoin:round; stroke-width:2; stroke-opacity:0.1; fill:none\" points=\"159.154,317.802 2640.76,317.802 \"/>\n",
       "<polyline clip-path=\"url(#clip450)\" style=\"stroke:#000000; stroke-linecap:round; stroke-linejoin:round; stroke-width:4; stroke-opacity:1; fill:none\" points=\"159.154,1787.62 159.154,47.2441 \"/>\n",
       "<polyline clip-path=\"url(#clip450)\" style=\"stroke:#000000; stroke-linecap:round; stroke-linejoin:round; stroke-width:4; stroke-opacity:1; fill:none\" points=\"159.154,1536.85 178.052,1536.85 \"/>\n",
       "<polyline clip-path=\"url(#clip450)\" style=\"stroke:#000000; stroke-linecap:round; stroke-linejoin:round; stroke-width:4; stroke-opacity:1; fill:none\" points=\"159.154,1232.09 178.052,1232.09 \"/>\n",
       "<polyline clip-path=\"url(#clip450)\" style=\"stroke:#000000; stroke-linecap:round; stroke-linejoin:round; stroke-width:4; stroke-opacity:1; fill:none\" points=\"159.154,927.327 178.052,927.327 \"/>\n",
       "<polyline clip-path=\"url(#clip450)\" style=\"stroke:#000000; stroke-linecap:round; stroke-linejoin:round; stroke-width:4; stroke-opacity:1; fill:none\" points=\"159.154,622.565 178.052,622.565 \"/>\n",
       "<polyline clip-path=\"url(#clip450)\" style=\"stroke:#000000; stroke-linecap:round; stroke-linejoin:round; stroke-width:4; stroke-opacity:1; fill:none\" points=\"159.154,317.802 178.052,317.802 \"/>\n",
       "<path clip-path=\"url(#clip450)\" d=\"M61.4965 1522.65 Q57.8854 1522.65 56.0567 1526.22 Q54.2512 1529.76 54.2512 1536.89 Q54.2512 1543.99 56.0567 1547.56 Q57.8854 1551.1 61.4965 1551.1 Q65.1307 1551.1 66.9363 1547.56 Q68.765 1543.99 68.765 1536.89 Q68.765 1529.76 66.9363 1526.22 Q65.1307 1522.65 61.4965 1522.65 M61.4965 1518.95 Q67.3067 1518.95 70.3622 1523.55 Q73.4409 1528.14 73.4409 1536.89 Q73.4409 1545.61 70.3622 1550.22 Q67.3067 1554.8 61.4965 1554.8 Q55.6864 1554.8 52.6077 1550.22 Q49.5521 1545.61 49.5521 1536.89 Q49.5521 1528.14 52.6077 1523.55 Q55.6864 1518.95 61.4965 1518.95 Z\" fill=\"#000000\" fill-rule=\"nonzero\" fill-opacity=\"1\" /><path clip-path=\"url(#clip450)\" d=\"M81.6584 1548.25 L86.5427 1548.25 L86.5427 1554.13 L81.6584 1554.13 L81.6584 1548.25 Z\" fill=\"#000000\" fill-rule=\"nonzero\" fill-opacity=\"1\" /><path clip-path=\"url(#clip450)\" d=\"M107.306 1534.99 Q104.158 1534.99 102.306 1537.14 Q100.478 1539.29 100.478 1543.04 Q100.478 1546.77 102.306 1548.95 Q104.158 1551.1 107.306 1551.1 Q110.455 1551.1 112.283 1548.95 Q114.135 1546.77 114.135 1543.04 Q114.135 1539.29 112.283 1537.14 Q110.455 1534.99 107.306 1534.99 M116.589 1520.34 L116.589 1524.6 Q114.83 1523.76 113.024 1523.32 Q111.242 1522.88 109.482 1522.88 Q104.853 1522.88 102.399 1526.01 Q99.9685 1529.13 99.6213 1535.45 Q100.987 1533.44 103.047 1532.37 Q105.107 1531.29 107.584 1531.29 Q112.793 1531.29 115.802 1534.46 Q118.834 1537.61 118.834 1543.04 Q118.834 1548.37 115.686 1551.59 Q112.538 1554.8 107.306 1554.8 Q101.311 1554.8 98.1398 1550.22 Q94.9685 1545.61 94.9685 1536.89 Q94.9685 1528.69 98.8574 1523.83 Q102.746 1518.95 109.297 1518.95 Q111.056 1518.95 112.839 1519.3 Q114.644 1519.64 116.589 1520.34 Z\" fill=\"#000000\" fill-rule=\"nonzero\" fill-opacity=\"1\" /><path clip-path=\"url(#clip450)\" d=\"M61.8437 1217.89 Q58.2326 1217.89 56.4039 1221.45 Q54.5984 1225 54.5984 1232.12 Q54.5984 1239.23 56.4039 1242.8 Q58.2326 1246.34 61.8437 1246.34 Q65.478 1246.34 67.2835 1242.8 Q69.1122 1239.23 69.1122 1232.12 Q69.1122 1225 67.2835 1221.45 Q65.478 1217.89 61.8437 1217.89 M61.8437 1214.19 Q67.6539 1214.19 70.7094 1218.79 Q73.7881 1223.37 73.7881 1232.12 Q73.7881 1240.85 70.7094 1245.46 Q67.6539 1250.04 61.8437 1250.04 Q56.0336 1250.04 52.9549 1245.46 Q49.8993 1240.85 49.8993 1232.12 Q49.8993 1223.37 52.9549 1218.79 Q56.0336 1214.19 61.8437 1214.19 Z\" fill=\"#000000\" fill-rule=\"nonzero\" fill-opacity=\"1\" /><path clip-path=\"url(#clip450)\" d=\"M82.0057 1243.49 L86.8899 1243.49 L86.8899 1249.37 L82.0057 1249.37 L82.0057 1243.49 Z\" fill=\"#000000\" fill-rule=\"nonzero\" fill-opacity=\"1\" /><path clip-path=\"url(#clip450)\" d=\"M97.2139 1248.65 L97.2139 1244.39 Q98.9732 1245.23 100.779 1245.67 Q102.584 1246.11 104.32 1246.11 Q108.95 1246.11 111.38 1243 Q113.834 1239.88 114.181 1233.54 Q112.839 1235.53 110.779 1236.59 Q108.718 1237.66 106.218 1237.66 Q101.033 1237.66 98.0009 1234.53 Q94.9917 1231.38 94.9917 1225.94 Q94.9917 1220.62 98.1398 1217.4 Q101.288 1214.19 106.519 1214.19 Q112.515 1214.19 115.663 1218.79 Q118.834 1223.37 118.834 1232.12 Q118.834 1240.3 114.945 1245.18 Q111.08 1250.04 104.529 1250.04 Q102.769 1250.04 100.964 1249.69 Q99.1583 1249.35 97.2139 1248.65 M106.519 1234 Q109.668 1234 111.496 1231.85 Q113.348 1229.69 113.348 1225.94 Q113.348 1222.22 111.496 1220.06 Q109.668 1217.89 106.519 1217.89 Q103.371 1217.89 101.519 1220.06 Q99.6907 1222.22 99.6907 1225.94 Q99.6907 1229.69 101.519 1231.85 Q103.371 1234 106.519 1234 Z\" fill=\"#000000\" fill-rule=\"nonzero\" fill-opacity=\"1\" /><path clip-path=\"url(#clip450)\" d=\"M54.066 940.672 L61.7048 940.672 L61.7048 914.307 L53.3947 915.973 L53.3947 911.714 L61.6585 910.047 L66.3344 910.047 L66.3344 940.672 L73.9733 940.672 L73.9733 944.607 L54.066 944.607 L54.066 940.672 Z\" fill=\"#000000\" fill-rule=\"nonzero\" fill-opacity=\"1\" /><path clip-path=\"url(#clip450)\" d=\"M83.4177 938.728 L88.3019 938.728 L88.3019 944.607 L83.4177 944.607 L83.4177 938.728 Z\" fill=\"#000000\" fill-rule=\"nonzero\" fill-opacity=\"1\" /><path clip-path=\"url(#clip450)\" d=\"M102.515 940.672 L118.834 940.672 L118.834 944.607 L96.8898 944.607 L96.8898 940.672 Q99.5519 937.918 104.135 933.288 Q108.742 928.635 109.922 927.293 Q112.168 924.77 113.047 923.033 Q113.95 921.274 113.95 919.584 Q113.95 916.83 112.005 915.094 Q110.084 913.358 106.982 913.358 Q104.783 913.358 102.33 914.121 Q99.8991 914.885 97.1213 916.436 L97.1213 911.714 Q99.9454 910.58 102.399 910.001 Q104.853 909.422 106.89 909.422 Q112.26 909.422 115.455 912.108 Q118.649 914.793 118.649 919.283 Q118.649 921.413 117.839 923.334 Q117.052 925.232 114.945 927.825 Q114.367 928.496 111.265 931.714 Q108.163 934.908 102.515 940.672 Z\" fill=\"#000000\" fill-rule=\"nonzero\" fill-opacity=\"1\" /><path clip-path=\"url(#clip450)\" d=\"M53.4641 635.909 L61.103 635.909 L61.103 609.544 L52.7928 611.211 L52.7928 606.951 L61.0567 605.285 L65.7326 605.285 L65.7326 635.909 L73.3714 635.909 L73.3714 639.845 L53.4641 639.845 L53.4641 635.909 Z\" fill=\"#000000\" fill-rule=\"nonzero\" fill-opacity=\"1\" /><path clip-path=\"url(#clip450)\" d=\"M82.8158 633.965 L87.7001 633.965 L87.7001 639.845 L82.8158 639.845 L82.8158 633.965 Z\" fill=\"#000000\" fill-rule=\"nonzero\" fill-opacity=\"1\" /><path clip-path=\"url(#clip450)\" d=\"M97.9315 605.285 L116.288 605.285 L116.288 609.22 L102.214 609.22 L102.214 617.692 Q103.232 617.345 104.251 617.183 Q105.269 616.998 106.288 616.998 Q112.075 616.998 115.455 620.169 Q118.834 623.34 118.834 628.757 Q118.834 634.335 115.362 637.437 Q111.89 640.516 105.57 640.516 Q103.394 640.516 101.126 640.146 Q98.8806 639.775 96.4732 639.034 L96.4732 634.335 Q98.5565 635.47 100.779 636.025 Q103.001 636.581 105.478 636.581 Q109.482 636.581 111.82 634.474 Q114.158 632.368 114.158 628.757 Q114.158 625.146 111.82 623.039 Q109.482 620.933 105.478 620.933 Q103.603 620.933 101.728 621.349 Q99.8759 621.766 97.9315 622.646 L97.9315 605.285 Z\" fill=\"#000000\" fill-rule=\"nonzero\" fill-opacity=\"1\" /><path clip-path=\"url(#clip450)\" d=\"M52.5614 331.147 L60.2002 331.147 L60.2002 304.781 L51.8901 306.448 L51.8901 302.189 L60.1539 300.522 L64.8298 300.522 L64.8298 331.147 L72.4687 331.147 L72.4687 335.082 L52.5614 335.082 L52.5614 331.147 Z\" fill=\"#000000\" fill-rule=\"nonzero\" fill-opacity=\"1\" /><path clip-path=\"url(#clip450)\" d=\"M81.9131 329.202 L86.7973 329.202 L86.7973 335.082 L81.9131 335.082 L81.9131 329.202 Z\" fill=\"#000000\" fill-rule=\"nonzero\" fill-opacity=\"1\" /><path clip-path=\"url(#clip450)\" d=\"M106.982 318.67 Q103.649 318.67 101.728 320.452 Q99.8296 322.235 99.8296 325.36 Q99.8296 328.485 101.728 330.267 Q103.649 332.049 106.982 332.049 Q110.316 332.049 112.237 330.267 Q114.158 328.462 114.158 325.36 Q114.158 322.235 112.237 320.452 Q110.339 318.67 106.982 318.67 M102.306 316.679 Q99.2972 315.938 97.6074 313.878 Q95.9408 311.818 95.9408 308.855 Q95.9408 304.712 98.8806 302.304 Q101.844 299.897 106.982 299.897 Q112.144 299.897 115.084 302.304 Q118.024 304.712 118.024 308.855 Q118.024 311.818 116.334 313.878 Q114.668 315.938 111.681 316.679 Q115.061 317.466 116.936 319.758 Q118.834 322.05 118.834 325.36 Q118.834 330.383 115.755 333.068 Q112.7 335.753 106.982 335.753 Q101.265 335.753 98.1861 333.068 Q95.1306 330.383 95.1306 325.36 Q95.1306 322.05 97.0287 319.758 Q98.9269 317.466 102.306 316.679 M100.594 309.295 Q100.594 311.98 102.26 313.485 Q103.95 314.989 106.982 314.989 Q109.992 314.989 111.681 313.485 Q113.394 311.98 113.394 309.295 Q113.394 306.61 111.681 305.105 Q109.992 303.601 106.982 303.601 Q103.95 303.601 102.26 305.105 Q100.594 306.61 100.594 309.295 Z\" fill=\"#000000\" fill-rule=\"nonzero\" fill-opacity=\"1\" /><polyline clip-path=\"url(#clip452)\" style=\"stroke:#009af9; stroke-linecap:round; stroke-linejoin:round; stroke-width:4; stroke-opacity:1; fill:none\" points=\"229.388,1738.36 726.431,1721.39 1205.59,1517.74 1375.21,1136.05 1467.23,719.892 1552.83,311.048 1683.87,96.5 1720.19,112.087 1838.51,115.501 1877.94,114.842 2031.93,114.923 2119.31,114.912 2254.54,114.914 2390.92,114.913 2568.86,114.913 2570.52,114.913 \"/>\n",
       "<polyline clip-path=\"url(#clip452)\" style=\"stroke:#e26f46; stroke-linecap:round; stroke-linejoin:round; stroke-width:4; stroke-opacity:1; fill:none\" points=\"229.388,928.323 726.431,938.206 1205.59,1030.47 1375.21,1141.2 1467.23,1231.75 1552.83,1330.42 1683.87,1466.84 1720.19,1488.88 1838.51,1520.31 1877.94,1519.72 2031.93,1519.49 2119.31,1519.54 2254.54,1519.53 2390.92,1519.53 2568.86,1519.53 2570.52,1519.53 \"/>\n",
       "<path clip-path=\"url(#clip450)\" d=\"M2257.45 260.777 L2558.04 260.777 L2558.04 105.257 L2257.45 105.257  Z\" fill=\"#ffffff\" fill-rule=\"evenodd\" fill-opacity=\"1\"/>\n",
       "<polyline clip-path=\"url(#clip450)\" style=\"stroke:#000000; stroke-linecap:round; stroke-linejoin:round; stroke-width:4; stroke-opacity:1; fill:none\" points=\"2257.45,260.777 2558.04,260.777 2558.04,105.257 2257.45,105.257 2257.45,260.777 \"/>\n",
       "<polyline clip-path=\"url(#clip450)\" style=\"stroke:#009af9; stroke-linecap:round; stroke-linejoin:round; stroke-width:4; stroke-opacity:1; fill:none\" points=\"2285.02,157.097 2450.46,157.097 \"/>\n",
       "<path clip-path=\"url(#clip450)\" d=\"M2491.87 176.784 Q2490.07 181.414 2488.36 182.826 Q2486.64 184.238 2483.77 184.238 L2480.37 184.238 L2480.37 180.673 L2482.87 180.673 Q2484.63 180.673 2485.6 179.84 Q2486.57 179.006 2487.75 175.904 L2488.52 173.96 L2478.03 148.451 L2482.55 148.451 L2490.65 168.728 L2498.75 148.451 L2503.26 148.451 L2491.87 176.784 Z\" fill=\"#000000\" fill-rule=\"nonzero\" fill-opacity=\"1\" /><path clip-path=\"url(#clip450)\" d=\"M2510.56 170.441 L2518.19 170.441 L2518.19 144.076 L2509.88 145.742 L2509.88 141.483 L2518.15 139.817 L2522.82 139.817 L2522.82 170.441 L2530.46 170.441 L2530.46 174.377 L2510.56 174.377 L2510.56 170.441 Z\" fill=\"#000000\" fill-rule=\"nonzero\" fill-opacity=\"1\" /><polyline clip-path=\"url(#clip450)\" style=\"stroke:#e26f46; stroke-linecap:round; stroke-linejoin:round; stroke-width:4; stroke-opacity:1; fill:none\" points=\"2285.02,208.937 2450.46,208.937 \"/>\n",
       "<path clip-path=\"url(#clip450)\" d=\"M2491.87 228.624 Q2490.07 233.254 2488.36 234.666 Q2486.64 236.078 2483.77 236.078 L2480.37 236.078 L2480.37 232.513 L2482.87 232.513 Q2484.63 232.513 2485.6 231.68 Q2486.57 230.846 2487.75 227.744 L2488.52 225.8 L2478.03 200.291 L2482.55 200.291 L2490.65 220.568 L2498.75 200.291 L2503.26 200.291 L2491.87 228.624 Z\" fill=\"#000000\" fill-rule=\"nonzero\" fill-opacity=\"1\" /><path clip-path=\"url(#clip450)\" d=\"M2513.77 222.281 L2530.09 222.281 L2530.09 226.217 L2508.15 226.217 L2508.15 222.281 Q2510.81 219.527 2515.39 214.897 Q2520 210.244 2521.18 208.902 Q2523.43 206.379 2524.31 204.643 Q2525.21 202.883 2525.21 201.194 Q2525.21 198.439 2523.26 196.703 Q2521.34 194.967 2518.24 194.967 Q2516.04 194.967 2513.59 195.731 Q2511.16 196.495 2508.38 198.045 L2508.38 193.323 Q2511.2 192.189 2513.66 191.61 Q2516.11 191.032 2518.15 191.032 Q2523.52 191.032 2526.71 193.717 Q2529.91 196.402 2529.91 200.893 Q2529.91 203.022 2529.1 204.944 Q2528.31 206.842 2526.2 209.434 Q2525.62 210.106 2522.52 213.323 Q2519.42 216.518 2513.77 222.281 Z\" fill=\"#000000\" fill-rule=\"nonzero\" fill-opacity=\"1\" /></svg>\n"
      ]
     },
     "execution_count": 26,
     "metadata": {},
     "output_type": "execute_result"
    }
   ],
   "source": [
    "plot(sol.t[2:end], u[2:end, :], xscale=:log10)"
   ]
  },
  {
   "cell_type": "markdown",
   "id": "7a1c733b",
   "metadata": {},
   "source": [
    "# What next?\n",
    "\n",
    "Now we need to see how to solve this problem as fast as possible, for a range\n",
    "of different parameter values. We also need to find out the sensitivities of\n",
    "the steady state solution to the parameters."
   ]
  }
 ],
 "metadata": {
  "kernelspec": {
   "display_name": "Julia 1.8.5",
   "language": "julia",
   "name": "julia-1.8"
  }
 },
 "nbformat": 4,
 "nbformat_minor": 5
}
